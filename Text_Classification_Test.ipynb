{
  "nbformat": 4,
  "nbformat_minor": 0,
  "metadata": {
    "colab": {
      "provenance": [],
      "machine_shape": "hm"
    },
    "kernelspec": {
      "name": "python3",
      "display_name": "Python 3"
    },
    "language_info": {
      "name": "python"
    },
    "accelerator": "GPU",
    "gpuClass": "premium"
  },
  "cells": [
    {
      "cell_type": "markdown",
      "source": [
        "## 라이브러리 install"
      ],
      "metadata": {
        "id": "Dgdxg5efSW5R"
      }
    },
    {
      "cell_type": "code",
      "execution_count": null,
      "metadata": {
        "id": "97dziUFXRy7t"
      },
      "outputs": [],
      "source": [
        "!pip install ignite\n",
        "!pip install pytorch-ignite\n",
        "!pip install transformers\n",
        "!pip install torch_optimizer\n",
        "!pip install torchtext"
      ]
    },
    {
      "cell_type": "markdown",
      "source": [
        "## 결과 확인"
      ],
      "metadata": {
        "id": "kIkVvO3tSbWM"
      }
    },
    {
      "cell_type": "code",
      "source": [
        "!cat /content/drive/MyDrive/인공지능/텍스트분류/data/review.sorted.uniq.refined.shuf.test.tsv | shuf | head -n 20 | awk -F'\\t' '{print $2}' | python /content/drive/MyDrive/인공지능/텍스트분류/classify_plm.py --model_fn /content/drive/MyDrive/인공지능/텍스트분류/models/review.native.kcbert.pth --gpu_id 0"
      ],
      "metadata": {
        "colab": {
          "base_uri": "https://localhost:8080/"
        },
        "id": "Sb7U-Hl0ShNE",
        "outputId": "eda71cac-220f-4990-c9c7-4ef9f216dd76"
      },
      "execution_count": 2,
      "outputs": [
        {
          "output_type": "stream",
          "name": "stdout",
          "text": [
            "Downloading (…)okenizer_config.json: 100% 49.0/49.0 [00:00<00:00, 8.03kB/s]\n",
            "Downloading (…)solve/main/vocab.txt: 100% 250k/250k [00:00<00:00, 728kB/s]\n",
            "Downloading (…)lve/main/config.json: 100% 619/619 [00:00<00:00, 245kB/s]\n",
            "Downloading pytorch_model.bin: 100% 438M/438M [00:01<00:00, 329MB/s]\n",
            "Some weights of the model checkpoint at beomi/kcbert-base were not used when initializing BertForSequenceClassification: ['cls.predictions.transform.LayerNorm.weight', 'cls.predictions.transform.dense.weight', 'cls.seq_relationship.weight', 'cls.predictions.decoder.weight', 'cls.predictions.bias', 'cls.predictions.decoder.bias', 'cls.predictions.transform.LayerNorm.bias', 'cls.predictions.transform.dense.bias', 'cls.seq_relationship.bias']\n",
            "- This IS expected if you are initializing BertForSequenceClassification from the checkpoint of a model trained on another task or with another architecture (e.g. initializing a BertForSequenceClassification model from a BertForPreTraining model).\n",
            "- This IS NOT expected if you are initializing BertForSequenceClassification from the checkpoint of a model that you expect to be exactly identical (initializing a BertForSequenceClassification model from a BertForSequenceClassification model).\n",
            "Some weights of BertForSequenceClassification were not initialized from the model checkpoint at beomi/kcbert-base and are newly initialized: ['classifier.weight', 'classifier.bias']\n",
            "You should probably TRAIN this model on a down-stream task to be able to use it for predictions and inference.\n",
            "negative\t라라라라라.\n",
            "positive\t상품 만족합니다. 저는 순수한 면 매니아입니다. 뽀송한 느낌이 매우 좋아요. 향도 질리지 않고요. 앞으로도 계속 구매할 의향이 있습니다.\n",
            "positive\t저렴하고 좋은상품 잘받았습니다 많이파세요\n",
            "positive\t할인받아 저렴하게 잘샀네요. 배송 빠르고 제품이야 만족스러운 제품입니다\n",
            "positive\t항상쓰는제품 세탁 깨끗하게 잘되고 냄새도 좋앙ㆍ\n",
            "positive\t싸게잘산거같아요 좋네요싸게잘산거같아요 좋네요싸게잘산거같아요 좋네요싸게잘산거같아요 좋네요싸게잘산거같아요 좋네요싸게잘산거같아요 좋네요싸게잘산거같아요 좋네요싸게잘산거같아요 좋네요\n",
            "positive\t비싸개 샀어요 ㅠㅠ\n",
            "negative\t구깃구깃 억지로 우겨넣은 듯..꺼내면 접혀있고 착용하려면 다시 일일이 펴서 착용해야함.품질은 괜찮은 듯\n",
            "negative\t배송이 느려도 너무 느리네요. 이정도로 느릴줄은 상상도 못했는데, 향기는 그럭저럭 괜찮은데, 앞으로 배송에 신경좀 쓰셔야 할것 같네요.\n",
            "negative\t촉촉해지고 시원해요그런데 클렌지폼이 안오고 수딩젤이 왔네요!다음에는 검수 잘해서 보내주세요!\n",
            "positive\t좋아요 먹어봐요\n",
            "negative\t당신~!! 나에게 반품상품 보냈음~! 나쁘네~! 유성펜으로 하자부분 칠까지서 숨기려들다니~!!\n",
            "negative\t아이가 맛? 榴摸? 안먹을려고 하네요. 내입맛에도 안맞아서 처리 할길이 없네요.\n",
            "negative\t붓은 별로네요~ 가격이 워낙 저렴하니 ~~~\n",
            "positive\t포인트로 묶어주니 너무 여성스럽구 예뿌네요 시중보다 저렴하게 구입해서 좋아요 여러가지 같이 구입해서 무료배송하니 더좋아요\n",
            "positive\t싸게 잘 샀어요. 아직 사용전이라 기타 여부는 잘 모르겠네요\n",
            "negative\t연락처를 잘못적어서 배송기사가 욕먹었다고 저에게 잡고 한소리 하시네요 욕먹고 보니 처음보는번호인데 상품받자마자 제가 욕나왔어요. 내가 잘못한것도 아닌데 왜 내가 물건사고 욕먹어야되나요\n",
            "negative\t11일 그래놀라카카오호두 510g짜리 2개를 주문했습니다 300g짜리 2개가 배송되어서 510g짜리로 맞교환 받았는데 이번엔 유통기한이 지난것이 배송되었네요 또 맞교환 받았습니다 맞교환 덕분에 일주일만에 받았네요 배송하시기전에 꼼꼼한 확인이 필요할것같습니다 한두달 전에 시킨 같은 상품의 유통기한은 내년 6월까지던데 이건 올해 12월까지네요 그전에 다먹긴하겠지만 유통기한이 많이 남지않았다는건 입고된지 시간이 많이 지난 상품일꺼란 생각이 드네요\n",
            "positive\t항상 여기에서 시켜요\n",
            "negative\t로부스타는 진짜 너무 맛이 없어요. 역시 로부스타. 선도는 좋아요.\n"
          ]
        }
      ]
    },
    {
      "cell_type": "code",
      "source": [
        "!cat /content/drive/MyDrive/인공지능/텍스트분류/data/review.sorted.uniq.refined.shuf.test.tsv | awk -F'\\t' '{print $2}' | python /content/drive/MyDrive/인공지능/텍스트분류/classify_plm.py --model_fn /content/drive/MyDrive/인공지능/텍스트분류/models/review.native.kcbert.pth --gpu_id 0 | awk -F'\\t' '{print $1}' > /content/drive/MyDrive/인공지능/텍스트분류/models/review.native.kcbert.pth.result.txt"
      ],
      "metadata": {
        "colab": {
          "base_uri": "https://localhost:8080/"
        },
        "id": "w2Z-gHhhViyw",
        "outputId": "d3bb8fb6-857b-4958-a999-1c8982f5a8c2"
      },
      "execution_count": 3,
      "outputs": [
        {
          "output_type": "stream",
          "name": "stdout",
          "text": [
            "Some weights of the model checkpoint at beomi/kcbert-base were not used when initializing BertForSequenceClassification: ['cls.seq_relationship.bias', 'cls.predictions.decoder.bias', 'cls.predictions.transform.LayerNorm.bias', 'cls.predictions.transform.dense.weight', 'cls.seq_relationship.weight', 'cls.predictions.transform.dense.bias', 'cls.predictions.bias', 'cls.predictions.decoder.weight', 'cls.predictions.transform.LayerNorm.weight']\n",
            "- This IS expected if you are initializing BertForSequenceClassification from the checkpoint of a model trained on another task or with another architecture (e.g. initializing a BertForSequenceClassification model from a BertForPreTraining model).\n",
            "- This IS NOT expected if you are initializing BertForSequenceClassification from the checkpoint of a model that you expect to be exactly identical (initializing a BertForSequenceClassification model from a BertForSequenceClassification model).\n",
            "Some weights of BertForSequenceClassification were not initialized from the model checkpoint at beomi/kcbert-base and are newly initialized: ['classifier.bias', 'classifier.weight']\n",
            "You should probably TRAIN this model on a down-stream task to be able to use it for predictions and inference.\n"
          ]
        }
      ]
    },
    {
      "cell_type": "code",
      "source": [
        "!head -n 5 /content/drive/MyDrive/인공지능/텍스트분류/models/review.native.kcbert.pth.result.txt"
      ],
      "metadata": {
        "colab": {
          "base_uri": "https://localhost:8080/"
        },
        "id": "JsO6nEzQXKub",
        "outputId": "77520e66-0d94-49c8-da49-3456508fd9fa"
      },
      "execution_count": 4,
      "outputs": [
        {
          "output_type": "stream",
          "name": "stdout",
          "text": [
            "positive\n",
            "positive\n",
            "positive\n",
            "positive\n",
            "positive\n"
          ]
        }
      ]
    },
    {
      "cell_type": "markdown",
      "source": [
        "### ground_truth.resutl.txt가 존재하지 않음"
      ],
      "metadata": {
        "id": "cUSFHm6-agPq"
      }
    },
    {
      "cell_type": "code",
      "source": [
        "!head -n 5 /content/drive/MyDrive/인공지능/텍스트분류/models/ground_truth.result.txt"
      ],
      "metadata": {
        "colab": {
          "base_uri": "https://localhost:8080/"
        },
        "id": "aY5bIeH-Yoe7",
        "outputId": "09e94188-03cf-448c-d26b-5b4db989320f"
      },
      "execution_count": 6,
      "outputs": [
        {
          "output_type": "stream",
          "name": "stdout",
          "text": [
            "head: cannot open '/content/drive/MyDrive/인공지능/텍스트분류/models/ground_truth.result.txt' for reading: No such file or directory\n"
          ]
        }
      ]
    },
    {
      "cell_type": "code",
      "source": [
        "!python /content/drive/MyDrive/인공지능/텍스트분류/models/get_accuracy.py /content/drive/MyDrive/인공지능/텍스트분류/models/review.native.kcbert.pth.result.txt /content/drive/MyDrive/인공지능/텍스트분류/models/ground_truth.result.txt "
      ],
      "metadata": {
        "id": "QREXIxR8XUx6"
      },
      "execution_count": null,
      "outputs": []
    }
  ]
}